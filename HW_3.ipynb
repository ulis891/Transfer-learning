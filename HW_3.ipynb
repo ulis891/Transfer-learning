{
  "nbformat": 4,
  "nbformat_minor": 0,
  "metadata": {
    "colab": {
      "provenance": []
    },
    "kernelspec": {
      "name": "python3",
      "display_name": "Python 3"
    },
    "language_info": {
      "name": "python"
    }
  },
  "cells": [
    {
      "cell_type": "markdown",
      "source": [
        "# Transfer learning (семинары)\n",
        "## Урок 3. Model as a service и разные применения Transfer learning\n",
        "Домашнее задание\n",
        "\n",
        "\n",
        "Реализуйте классификацию эмоциональной окрашенности текстов при помощи объекта pipeline.\n",
        "\n",
        "1. Найдите тип задач Sentiment Analysis на huggingface.co\n",
        "2. Найдите модель для русского языка (примеры: rubert-tiny2..., rubert-base...)"
      ],
      "metadata": {
        "id": "Tv4iJtgNe2eh"
      }
    },
    {
      "cell_type": "code",
      "execution_count": 5,
      "metadata": {
        "id": "VKOCNzoIc3F9"
      },
      "outputs": [],
      "source": [
        "# Будем использовать модель ruBert-base-russian-emotions-classifier-goEmotions\n",
        "from transformers import pipeline\n",
        "\n",
        "pipe = pipeline(\"text-classification\", model=\"MaxKazak/ruBert-base-russian-emotion-detection\")"
      ]
    },
    {
      "cell_type": "code",
      "source": [
        "classifier([\"Отличный товар\",\n",
        "            \"Мне не понравилось\",\n",
        "            \"Прекрасно выглядит, ничего не меняйте!\",\n",
        "            \"Ничего не понял\",\n",
        "            \"У меня не работала розетка, в остальном все отлично\"] )"
      ],
      "metadata": {
        "colab": {
          "base_uri": "https://localhost:8080/"
        },
        "id": "f4p08JZBePq7",
        "outputId": "5f720261-7399-4449-c938-88c9a373e5c2"
      },
      "execution_count": 8,
      "outputs": [
        {
          "output_type": "execute_result",
          "data": {
            "text/plain": [
              "[{'label': 'neutral', 'score': 0.8012459874153137},\n",
              " {'label': 'sadness', 'score': 0.6384313106536865},\n",
              " {'label': 'joy', 'score': 0.5939117074012756},\n",
              " {'label': 'neutral', 'score': 0.6083996891975403},\n",
              " {'label': 'neutral', 'score': 0.23068033158779144}]"
            ]
          },
          "metadata": {},
          "execution_count": 8
        }
      ]
    },
    {
      "cell_type": "code",
      "source": [],
      "metadata": {
        "id": "C_7ugiUwfxbL"
      },
      "execution_count": null,
      "outputs": []
    }
  ]
}